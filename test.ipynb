{
 "cells": [
  {
   "cell_type": "code",
   "execution_count": 40,
   "id": "a5682f78",
   "metadata": {},
   "outputs": [
    {
     "name": "stdout",
     "output_type": "stream",
     "text": [
      "697\n",
      "                    timestamp      open      high       low     close   volume\n",
      "0   2025-03-22 00:00:00+00:00  0.501436  0.506744  0.501436  0.506609        0\n",
      "1   2025-03-22 01:00:00+00:00  0.506523  0.508191  0.503138  0.503580   865224\n",
      "2   2025-03-22 02:00:00+00:00  0.503156  0.506603  0.502831  0.506174   985504\n",
      "3   2025-03-22 03:00:00+00:00  0.506200  0.507815  0.504687  0.506469   807744\n",
      "4   2025-03-22 04:00:00+00:00  0.506446  0.509001  0.506446  0.508927   411024\n",
      "..                        ...       ...       ...       ...       ...      ...\n",
      "692 2025-04-19 20:00:00+00:00  0.566499  0.566514  0.556814  0.562338  3452376\n",
      "693 2025-04-19 21:00:00+00:00  0.562311  0.567567  0.561223  0.565448  1901952\n",
      "694 2025-04-20 00:00:00+00:00  0.556310  0.557417  0.553193  0.553255  1029736\n",
      "695 2025-04-20 01:00:00+00:00  0.553198  0.559166  0.552810  0.557643  1342456\n",
      "696 2025-04-20 02:00:00+00:00  0.557636  0.565278  0.557567  0.565278  1898848\n",
      "\n",
      "[697 rows x 6 columns]\n"
     ]
    }
   ],
   "source": [
    "import yfinance as yf\n",
    "\n",
    "ticker = yf.Ticker(\"FET-USD\")\n",
    "df = ticker.history(period=\"30d\", interval=\"1h\")\n",
    "df.reset_index(inplace=True)\n",
    "# Rename columns\n",
    "df.rename(columns={\"Datetime\": \"timestamp\", \n",
    "                   \"Open\": \"open\", \n",
    "                   \"High\": \"high\", \n",
    "                   \"Low\": \"low\", \n",
    "                   \"Close\": \"close\", \n",
    "                   \"Volume\": \"volume\"}, inplace=True)\n",
    "df = df[[\"timestamp\", \"open\", \"high\", \"low\", \"close\", \"volume\"]]\n",
    "\n",
    "print(len(df))\n",
    "print(df)"
   ]
  }
 ],
 "metadata": {
  "kernelspec": {
   "display_name": "venv",
   "language": "python",
   "name": "python3"
  },
  "language_info": {
   "codemirror_mode": {
    "name": "ipython",
    "version": 3
   },
   "file_extension": ".py",
   "mimetype": "text/x-python",
   "name": "python",
   "nbconvert_exporter": "python",
   "pygments_lexer": "ipython3",
   "version": "3.12.5"
  }
 },
 "nbformat": 4,
 "nbformat_minor": 5
}
